{
  "cells": [
    {
      "cell_type": "markdown",
      "metadata": {
        "id": "FNHwBGogoeio"
      },
      "source": [
        "# 2. Programs in a file, variables and strings\n",
        "## 2.1 Introduction\n",
        "Well, we can make one-liner programs. So What? You want to send programs to other people, so that they can use them, without knowing how to write them.\n",
        "## 2.2 Writing scripts\n",
        "Writing programs in Python to a file is VERY easy. Python programs are simply text documents - you can open them up in notepad, and have a look at them, just like that.\n",
        "In practice, however, you will use a so called __[Integrated Development Environment (IDE)](https://en.wikipedia.org/wiki/Integrated_development_environment)__ to develop your scripts.\n",
        "\n",
        "In this tutorial we'll use the Jupyter Notebook interactive fields as an IDE. After the tutorial we can begin to use other IDEs if we would like.\n",
        "\n",
        "In this course though, the main IDE will be the Python3 environment installed on your Raspberry Pi.\n",
        "\n",
        "Have a look at the program (`mary.py`) below:"
      ]
    },
    {
      "cell_type": "code",
      "execution_count": 1,
      "metadata": {
        "id": "ry_XHxmyoeip",
        "outputId": "b9d41f81-aeb8-43cd-87d8-d4b6e6677ea1",
        "colab": {
          "base_uri": "https://localhost:8080/"
        }
      },
      "outputs": [
        {
          "output_type": "stream",
          "name": "stdout",
          "text": [
            "Mary had a little lamb\n",
            "it's fleece was white as snow;\n",
            "and everywhere that Mary went her lamb was sure to go.\n"
          ]
        }
      ],
      "source": [
        "#A simple program.\n",
        "print(\"Mary had a little lamb\")\n",
        "print(\"it's fleece was white as snow;\")\n",
        "print(\"and everywhere that Mary went\", end = \" \")\n",
        "print(\"her lamb was sure to go.\")"
      ]
    },
    {
      "cell_type": "markdown",
      "metadata": {
        "id": "54hCTtsCoeip"
      },
      "source": [
        "If you run the script (`<shift> + <Return>`) it will execute lines 1 to 5 after each other. In an IDE there's always a screen where you can type the code with syntax highlighting (like here), a window where you can see the output and a button to run the script. The scripts are saved as `.py` files. These can be run from your command line - Open the terminal window, go to the folder and then type `Python mary.py`. Your program will now execute in the command line.\n",
        "\n",
        "In line 4 `end = \" \"` inserts a space instead of a new line at the end of the `print` operator."
      ]
    },
    {
      "cell_type": "markdown",
      "metadata": {
        "id": "EJ6sfQvwoeiq"
      },
      "source": [
        "## 2.3 Variables\n",
        "Now let's start introducing variables. Variables store a value, that can be looked at or changed at a later time. Let's make a program that uses variables:"
      ]
    },
    {
      "cell_type": "code",
      "execution_count": 2,
      "metadata": {
        "id": "rgZNdEaAoeiq",
        "outputId": "6a356406-54ee-4720-a7fc-1d797ce18422",
        "colab": {
          "base_uri": "https://localhost:8080/"
        }
      },
      "outputs": [
        {
          "output_type": "stream",
          "name": "stdout",
          "text": [
            "This program is a demo of variables\n",
            "The value of v is now 1\n",
            "v now equals itself plus one, making it worth 2\n",
            "v can store any numerical value, to be used elsewhere.\n",
            "for example, in a sentence. v is now worth 51\n",
            "v times 5 equals 255\n",
            "but v still only remains 51\n",
            "to make v five times bigger, you would have to type v = v * 5\n",
            "there you go, now v equals 255 and not 51.0\n"
          ]
        }
      ],
      "source": [
        "#variables demonstrated\n",
        "print(\"This program is a demo of variables\")\n",
        "v = 1\n",
        "print(\"The value of v is now\", v)\n",
        "v = v + 1\n",
        "print(\"v now equals itself plus one, making it worth\", v)\n",
        "v = 51\n",
        "print(\"v can store any numerical value, to be used elsewhere.\")\n",
        "print(\"for example, in a sentence. v is now worth\", v)\n",
        "print(\"v times 5 equals\", v * 5)\n",
        "print(\"but v still only remains\", v)\n",
        "print(\"to make v five times bigger, you would have to type v = v * 5\")\n",
        "v = v * 5\n",
        "print(\"there you go, now v equals\", v, \"and not\", v / 5)"
      ]
    },
    {
      "cell_type": "markdown",
      "metadata": {
        "id": "k7jd2Y7Moeiq"
      },
      "source": [
        "Run the script and try to understand the results."
      ]
    },
    {
      "cell_type": "markdown",
      "metadata": {
        "id": "H_a-uOzyoeir"
      },
      "source": [
        "Note that we can also write `v = v + 1` as `v += 1`. This can be used for all operators (e.g. `-=`, `*=`,`/=`). Try it in the code above.\n",
        "\n",
        "It is good practice to use lowercase or camelCase for variables. Don't use special characters and don't start with a number!"
      ]
    },
    {
      "cell_type": "markdown",
      "metadata": {
        "id": "-Emzp3X5oeir"
      },
      "source": [
        "## 2.5 Strings\n",
        "As you can see, variables store values, for use at a later time. You can change them at any time. You can put in more than numbers, though. Variables can hold things like text. A variable that holds text is called a string. Try this program:"
      ]
    },
    {
      "cell_type": "code",
      "execution_count": 22,
      "metadata": {
        "id": "4n6XkZKaoeir",
        "outputId": "a5248c17-bfa3-47c2-b971-7bd13384bd91",
        "colab": {
          "base_uri": "https://localhost:8080/"
        }
      },
      "outputs": [
        {
          "output_type": "stream",
          "name": "stdout",
          "text": [
            "Good morning\n",
            "Good morning to you too!\n"
          ]
        }
      ],
      "source": [
        "#giving variables text, and adding text.\n",
        "word1 = \"Good\"\n",
        "word2 = \"morning\"\n",
        "word3 = \"to you too!\"\n",
        "print(word1, word2)\n",
        "sentence = word1 + \" \" + word2 + \" \" + word3\n",
        "print(sentence)"
      ]
    },
    {
      "cell_type": "markdown",
      "metadata": {
        "id": "A-SUI90Qoeir"
      },
      "source": [
        "As you see, the variables above were holding text. Variable names can also be longer than one letter - here, we had `word1`, `word2`, and `word3`. As you can also see, strings can be added together to make longer words or sentences. However, it doesn't add spaces in between the words - hence me putting in the `\" \"` things (there is one space between those).\n",
        "\n",
        "Often we need to manipulate strings. For example if we want to edit file names or make selections from text. Strings are similar to `lists` that you will learn later. So similar operations (called *list slicing*) apply to strings.\n",
        "\n",
        "Try the following code and explain what it does:"
      ]
    },
    {
      "cell_type": "code",
      "execution_count": 3,
      "metadata": {
        "id": "ON9Sssdroeis",
        "outputId": "59dcca8d-6dc8-43ba-80e1-92e686ac5dbe",
        "colab": {
          "base_uri": "https://localhost:8080/"
        }
      },
      "outputs": [
        {
          "output_type": "execute_result",
          "data": {
            "text/plain": [
              "10"
            ]
          },
          "metadata": {},
          "execution_count": 3
        }
      ],
      "source": [
        "text = \"abcdefghij\"\n",
        "len(text)"
      ]
    },
    {
      "cell_type": "markdown",
      "metadata": {
        "id": "Km0peYeloeis"
      },
      "source": [
        "Yes, it shows us the amount of characters in a string.\n",
        "\n",
        "Now try this:"
      ]
    },
    {
      "cell_type": "code",
      "execution_count": 6,
      "metadata": {
        "id": "p2yeQPq7oeis",
        "outputId": "90bd30df-4099-4fe6-f485-153483a271a4",
        "colab": {
          "base_uri": "https://localhost:8080/"
        }
      },
      "outputs": [
        {
          "output_type": "stream",
          "name": "stdout",
          "text": [
            "e\n"
          ]
        }
      ],
      "source": [
        "print(text[4])"
      ]
    },
    {
      "cell_type": "markdown",
      "metadata": {
        "id": "CffIg_oYoeis"
      },
      "source": [
        "Here we want to print the character at position 4. Note that the first character \"a\" is at position 0! So position 4 gives us back \"e\".\n",
        "\n",
        "Now try:"
      ]
    },
    {
      "cell_type": "code",
      "execution_count": 7,
      "metadata": {
        "id": "h5TRslqYoeis",
        "outputId": "992991c1-efd5-41da-c215-5369c5e91f20",
        "colab": {
          "base_uri": "https://localhost:8080/"
        }
      },
      "outputs": [
        {
          "output_type": "stream",
          "name": "stdout",
          "text": [
            "abcd\n"
          ]
        }
      ],
      "source": [
        "print(text[:4])"
      ]
    },
    {
      "cell_type": "code",
      "execution_count": 8,
      "metadata": {
        "id": "HjZPTMiloeis",
        "outputId": "00eadd47-c9a9-48c4-ebb8-88cd11154c6b",
        "colab": {
          "base_uri": "https://localhost:8080/"
        }
      },
      "outputs": [
        {
          "output_type": "stream",
          "name": "stdout",
          "text": [
            "efghij\n"
          ]
        }
      ],
      "source": [
        "print(text[4:])"
      ]
    },
    {
      "cell_type": "markdown",
      "metadata": {
        "id": "o51ryVC9oeis"
      },
      "source": [
        "Here you see that `[:4]` selects characters 0,1,2,3, which is \"abcd\". With `[4:]` we start with position 4 (counting from 0!) until the end of the string, which results in \"efghij\".\n",
        "\n",
        "We can also specify a range. Try this:"
      ]
    },
    {
      "cell_type": "code",
      "execution_count": 4,
      "metadata": {
        "id": "0axWYo6foeis",
        "outputId": "b08d884c-f476-4158-c66a-21373055fada",
        "colab": {
          "base_uri": "https://localhost:8080/"
        }
      },
      "outputs": [
        {
          "output_type": "stream",
          "name": "stdout",
          "text": [
            "efgh\n"
          ]
        }
      ],
      "source": [
        "print(text[4:8])"
      ]
    },
    {
      "cell_type": "markdown",
      "metadata": {
        "id": "mr8PsnfMoeit"
      },
      "source": [
        "Was it what you expected?\n",
        "With ranges, the maximum value is not included in the selection.\n",
        "\n",
        "We still have the variable `sentence` available. Write code below to select the second word of the sentence using the correct range."
      ]
    },
    {
      "cell_type": "code",
      "execution_count": 9,
      "metadata": {
        "id": "fP0fjfB-oeit",
        "outputId": "2dad1672-5946-4d17-a532-02e7002edeaf",
        "colab": {
          "base_uri": "https://localhost:8080/",
          "height": 172
        }
      },
      "outputs": [
        {
          "output_type": "error",
          "ename": "NameError",
          "evalue": "ignored",
          "traceback": [
            "\u001b[0;31m---------------------------------------------------------------------------\u001b[0m",
            "\u001b[0;31mNameError\u001b[0m                                 Traceback (most recent call last)",
            "\u001b[0;32m<ipython-input-9-65e1d6f7f0e3>\u001b[0m in \u001b[0;36m<module>\u001b[0;34m\u001b[0m\n\u001b[0;32m----> 1\u001b[0;31m \u001b[0mprint\u001b[0m \u001b[0;34m(\u001b[0m\u001b[0msentence\u001b[0m \u001b[0;34m[\u001b[0m\u001b[0;36m5\u001b[0m\u001b[0;34m:\u001b[0m\u001b[0;36m12\u001b[0m\u001b[0;34m]\u001b[0m\u001b[0;34m)\u001b[0m\u001b[0;34m\u001b[0m\u001b[0;34m\u001b[0m\u001b[0m\n\u001b[0m",
            "\u001b[0;31mNameError\u001b[0m: name 'sentence' is not defined"
          ]
        }
      ],
      "source": [
        "print (sentence [5:12])"
      ]
    },
    {
      "cell_type": "markdown",
      "metadata": {
        "id": "QMehBnmSoeit"
      },
      "source": [
        "Now try this:"
      ]
    },
    {
      "cell_type": "code",
      "execution_count": 10,
      "metadata": {
        "id": "zfR25FfLoeit",
        "outputId": "ac9e19b1-efa4-4062-b6e3-82c63607d728",
        "colab": {
          "base_uri": "https://localhost:8080/"
        }
      },
      "outputs": [
        {
          "output_type": "stream",
          "name": "stdout",
          "text": [
            "i\n"
          ]
        }
      ],
      "source": [
        "print(text[-2])"
      ]
    },
    {
      "cell_type": "markdown",
      "metadata": {
        "id": "HjNn3YWwoeit"
      },
      "source": [
        "What did it do?\n",
        "\n",
        "Right, you have selected the second character from the right! Note that here we start counting with -1 for the first character on the right.\n",
        "\n",
        "Try this:"
      ]
    },
    {
      "cell_type": "code",
      "execution_count": 11,
      "metadata": {
        "id": "uiS5kZ-Boeit",
        "outputId": "12c8377c-2708-47fe-938a-a71adcac1a9c",
        "colab": {
          "base_uri": "https://localhost:8080/"
        }
      },
      "outputs": [
        {
          "output_type": "stream",
          "name": "stdout",
          "text": [
            "ghij\n"
          ]
        }
      ],
      "source": [
        "print(text[-4:])"
      ]
    },
    {
      "cell_type": "markdown",
      "metadata": {
        "id": "NT3fFJt-oeit"
      },
      "source": [
        "In human language: start with the 4th character from the right and give me all characters from that position to the end of the string.\n",
        "\n",
        "Now try this and find out what it does:"
      ]
    },
    {
      "cell_type": "code",
      "execution_count": 12,
      "metadata": {
        "id": "K47nPeNyoeit",
        "outputId": "a32f0eb5-001d-419e-e77a-67b32aa5260b",
        "colab": {
          "base_uri": "https://localhost:8080/"
        }
      },
      "outputs": [
        {
          "output_type": "stream",
          "name": "stdout",
          "text": [
            "acegi\n"
          ]
        }
      ],
      "source": [
        "print(text[::2])"
      ]
    },
    {
      "cell_type": "markdown",
      "metadata": {
        "id": "u4qAFsNVoeiu"
      },
      "source": [
        "We can also add the results of the *list slicing* to variables and insert this into strings using the format operation:"
      ]
    },
    {
      "cell_type": "code",
      "execution_count": 13,
      "metadata": {
        "id": "hqtaRzfjoeiu",
        "outputId": "61963107-b515-483c-ef86-0d36eb8c0f9d",
        "colab": {
          "base_uri": "https://localhost:8080/",
          "height": 209
        }
      },
      "outputs": [
        {
          "output_type": "error",
          "ename": "NameError",
          "evalue": "ignored",
          "traceback": [
            "\u001b[0;31m---------------------------------------------------------------------------\u001b[0m",
            "\u001b[0;31mNameError\u001b[0m                                 Traceback (most recent call last)",
            "\u001b[0;32m<ipython-input-13-4e94eafa67df>\u001b[0m in \u001b[0;36m<module>\u001b[0;34m\u001b[0m\n\u001b[0;32m----> 1\u001b[0;31m \u001b[0mnrOfCharacters\u001b[0m \u001b[0;34m=\u001b[0m \u001b[0mlen\u001b[0m\u001b[0;34m(\u001b[0m\u001b[0msentence\u001b[0m\u001b[0;34m)\u001b[0m\u001b[0;34m\u001b[0m\u001b[0;34m\u001b[0m\u001b[0m\n\u001b[0m\u001b[1;32m      2\u001b[0m \u001b[0mlastWord\u001b[0m \u001b[0;34m=\u001b[0m \u001b[0msentence\u001b[0m\u001b[0;34m[\u001b[0m\u001b[0;34m-\u001b[0m\u001b[0;36m4\u001b[0m\u001b[0;34m:\u001b[0m\u001b[0;34m-\u001b[0m\u001b[0;36m1\u001b[0m\u001b[0;34m]\u001b[0m\u001b[0;34m\u001b[0m\u001b[0;34m\u001b[0m\u001b[0m\n\u001b[1;32m      3\u001b[0m \u001b[0mprint\u001b[0m\u001b[0;34m(\u001b[0m\u001b[0;34m\"The sentence has {} characters and the last word is: {}\"\u001b[0m\u001b[0;34m.\u001b[0m\u001b[0mformat\u001b[0m\u001b[0;34m(\u001b[0m\u001b[0mnrOfCharacters\u001b[0m\u001b[0;34m,\u001b[0m\u001b[0mlastWord\u001b[0m\u001b[0;34m)\u001b[0m\u001b[0;34m)\u001b[0m\u001b[0;34m\u001b[0m\u001b[0;34m\u001b[0m\u001b[0m\n",
            "\u001b[0;31mNameError\u001b[0m: name 'sentence' is not defined"
          ]
        }
      ],
      "source": [
        "nrOfCharacters = len(sentence)\n",
        "lastWord = sentence[-4:-1]\n",
        "print(\"The sentence has {} characters and the last word is: {}\".format(nrOfCharacters,lastWord))"
      ]
    },
    {
      "cell_type": "markdown",
      "metadata": {
        "id": "lvZNwA4Toeiu"
      },
      "source": [
        "So you can easily insert variables at the places of the accolades (`{}`). They will be substituted in the same order of the variables in `.format()`"
      ]
    },
    {
      "cell_type": "markdown",
      "metadata": {
        "id": "0kk1uzzzoeiu"
      },
      "source": [
        "This can also be written as:"
      ]
    },
    {
      "cell_type": "code",
      "execution_count": 14,
      "metadata": {
        "id": "aH7lsXkUoeiu",
        "outputId": "7e335c98-dd34-4c26-8c26-713ccb960142",
        "colab": {
          "base_uri": "https://localhost:8080/",
          "height": 172
        }
      },
      "outputs": [
        {
          "output_type": "error",
          "ename": "NameError",
          "evalue": "ignored",
          "traceback": [
            "\u001b[0;31m---------------------------------------------------------------------------\u001b[0m",
            "\u001b[0;31mNameError\u001b[0m                                 Traceback (most recent call last)",
            "\u001b[0;32m<ipython-input-14-67653d9e8305>\u001b[0m in \u001b[0;36m<module>\u001b[0;34m\u001b[0m\n\u001b[0;32m----> 1\u001b[0;31m \u001b[0mprint\u001b[0m\u001b[0;34m(\u001b[0m\u001b[0;34mf\"The sentence has {nrOfCharacters} characters and the last word is: {lastWord}\"\u001b[0m\u001b[0;34m)\u001b[0m\u001b[0;34m\u001b[0m\u001b[0;34m\u001b[0m\u001b[0m\n\u001b[0m",
            "\u001b[0;31mNameError\u001b[0m: name 'nrOfCharacters' is not defined"
          ]
        }
      ],
      "source": [
        "print(f\"The sentence has {nrOfCharacters} characters and the last word is: {lastWord}\")"
      ]
    },
    {
      "cell_type": "markdown",
      "metadata": {
        "id": "CcP4RP_qoeiu"
      },
      "source": [
        "Besides *list slicing* there are also other operations that we can apply to strings.\n",
        "We can count the number of occurences of a specific character in a string:"
      ]
    },
    {
      "cell_type": "code",
      "execution_count": 15,
      "metadata": {
        "id": "-B_mH0Uooeiu",
        "outputId": "db0b5153-b89a-47dd-9902-5a52554fbe21",
        "colab": {
          "base_uri": "https://localhost:8080/",
          "height": 172
        }
      },
      "outputs": [
        {
          "output_type": "error",
          "ename": "NameError",
          "evalue": "ignored",
          "traceback": [
            "\u001b[0;31m---------------------------------------------------------------------------\u001b[0m",
            "\u001b[0;31mNameError\u001b[0m                                 Traceback (most recent call last)",
            "\u001b[0;32m<ipython-input-15-0756e52e2003>\u001b[0m in \u001b[0;36m<module>\u001b[0;34m\u001b[0m\n\u001b[0;32m----> 1\u001b[0;31m \u001b[0mprint\u001b[0m\u001b[0;34m(\u001b[0m\u001b[0msentence\u001b[0m\u001b[0;34m.\u001b[0m\u001b[0mcount\u001b[0m\u001b[0;34m(\u001b[0m\u001b[0;34m'o'\u001b[0m\u001b[0;34m)\u001b[0m\u001b[0;34m)\u001b[0m\u001b[0;34m\u001b[0m\u001b[0;34m\u001b[0m\u001b[0m\n\u001b[0m",
            "\u001b[0;31mNameError\u001b[0m: name 'sentence' is not defined"
          ]
        }
      ],
      "source": [
        "print(sentence.count('o'))"
      ]
    },
    {
      "cell_type": "markdown",
      "metadata": {
        "id": "coBRvgF7oeiu"
      },
      "source": [
        "We can also find the position of character:"
      ]
    },
    {
      "cell_type": "code",
      "execution_count": 16,
      "metadata": {
        "id": "LKidadJLoeiv",
        "outputId": "3bae24d5-f4b5-4308-de0f-1bb407b11596",
        "colab": {
          "base_uri": "https://localhost:8080/"
        }
      },
      "outputs": [
        {
          "output_type": "stream",
          "name": "stdout",
          "text": [
            "4\n"
          ]
        }
      ],
      "source": [
        "print(text.find('e'))"
      ]
    },
    {
      "cell_type": "code",
      "execution_count": 17,
      "metadata": {
        "id": "Fdp7fIe4oeiv",
        "outputId": "6ea4c1d3-60af-4fe4-b561-6147dba3d06e",
        "colab": {
          "base_uri": "https://localhost:8080/"
        }
      },
      "outputs": [
        {
          "output_type": "stream",
          "name": "stdout",
          "text": [
            "17\n"
          ]
        }
      ],
      "source": [
        "sometext = \"Hey you, how are you doing?\"\n",
        "print(sometext.rfind(\"you\"))"
      ]
    },
    {
      "cell_type": "markdown",
      "metadata": {
        "id": "ahWRmcdOoeiv"
      },
      "source": [
        "`rfind` returns the lasts occurance of a string. So in `sometext` we have the word \"you\" twice. `rfind` returns `17` meaning that the last time that it found \"you\" is starting at position 17 (counting from 0).\n",
        "\n",
        "There are a few other useful string operations. Run the code below and will be obvious what it does:"
      ]
    },
    {
      "cell_type": "code",
      "execution_count": 20,
      "metadata": {
        "id": "kuxwUBeLoeiv",
        "outputId": "5371f737-9c98-4c67-bc71-8a3810b156e6",
        "colab": {
          "base_uri": "https://localhost:8080/"
        }
      },
      "outputs": [
        {
          "output_type": "stream",
          "name": "stdout",
          "text": [
            "HEY YOU, HOW ARE YOU DOING?\n",
            "['Hey you', ' how are you doing?']\n",
            "Hey you, how are you doing!\n"
          ]
        }
      ],
      "source": [
        "# Changes the string to upper case\n",
        "print(sometext.upper())\n",
        "\n",
        "# Splits the string on a character and returns it as list items. You'll learn about lists later\n",
        "print(sometext.split(\",\"))\n",
        "\n",
        "# Replaces strings\n",
        "print(sometext.replace(\"?\",\"!\"))"
      ]
    },
    {
      "cell_type": "markdown",
      "metadata": {
        "id": "NG3qOyO2oeiv"
      },
      "source": [
        "There are also some special characters:\n",
        "\n",
        "`\\n` jumps to a new line\n",
        "\n",
        "`\\` is an escape character. You can put it before another character that has a meaning in the code and is not considered a string. This is often used to have strings with backslashes for file names on Windows (e.g. `\"C:\\\\folder\\\\filename.txt\"`). Because `\\` is already an escape character we need to use it twice to escape the escape character!\n",
        "\n",
        "Examples:"
      ]
    },
    {
      "cell_type": "code",
      "execution_count": 21,
      "metadata": {
        "id": "9Wmoh4wNoeiv",
        "outputId": "a5759460-5ae9-46fd-fcfb-337cdf5ff66e",
        "colab": {
          "base_uri": "https://localhost:8080/"
        }
      },
      "outputs": [
        {
          "output_type": "stream",
          "name": "stdout",
          "text": [
            "This is a very long sentence and I want to split it into two lines.\n",
            "This is a very long sentence\n",
            "and I want to split it into two lines.\n",
            "This sentence contains a quote and I don't want the string to end (yet)\"\n"
          ]
        }
      ],
      "source": [
        "print(\"This is a very long sentence and I want to split it into two lines.\")\n",
        "print(\"This is a very long sentence\\nand I want to split it into two lines.\")\n",
        "\n",
        "print(\"This sentence contains a quote and I don't want the string to end (yet)\\\"\")"
      ]
    },
    {
      "cell_type": "markdown",
      "metadata": {
        "id": "ahiMbeWNoeiv"
      },
      "source": [
        "## 2.6 Conclusion\n",
        "Well done! We now understand longer programs, and know the use of variables. We can also manipulate strings. Next lesson, we look at loops, what they are, and how to use them."
      ]
    },
    {
      "cell_type": "markdown",
      "source": [
        "I learned about variables. I also learned how to combine multiple strings to create a long  string. As well as learning a lot about indexing."
      ],
      "metadata": {
        "id": "VM8yn7H8jRZr"
      }
    },
    {
      "cell_type": "code",
      "source": [
        "word1='I'\n",
        "word2='hate'\n",
        "word3='running!'\n",
        "sentence=word1+' '+word2+' '+word3\n",
        "length=len(sentence)\n",
        "print('The first and last words of the sentence are, ',sentence[:1] , ' and ', sentence[7:], ' and the length of the sentence is', length,'.')"
      ],
      "metadata": {
        "id": "n4vBtDOAoDJK",
        "outputId": "49253d4d-51d5-4922-850b-7ea174468ef2",
        "colab": {
          "base_uri": "https://localhost:8080/"
        }
      },
      "execution_count": 24,
      "outputs": [
        {
          "output_type": "stream",
          "name": "stdout",
          "text": [
            "The first and last words of the sentence are,  I  and  running!  and the length of the sentence is 15 .\n"
          ]
        }
      ]
    }
  ],
  "metadata": {
    "kernelspec": {
      "display_name": "Python 3",
      "language": "python",
      "name": "python3"
    },
    "language_info": {
      "codemirror_mode": {
        "name": "ipython",
        "version": 3
      },
      "file_extension": ".py",
      "mimetype": "text/x-python",
      "name": "python",
      "nbconvert_exporter": "python",
      "pygments_lexer": "ipython3",
      "version": "3.6.5"
    },
    "colab": {
      "provenance": []
    }
  },
  "nbformat": 4,
  "nbformat_minor": 0
}